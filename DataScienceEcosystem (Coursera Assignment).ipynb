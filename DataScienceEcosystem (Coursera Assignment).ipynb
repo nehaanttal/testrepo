{
 "cells": [
  {
   "cell_type": "markdown",
   "id": "62ba8489",
   "metadata": {},
   "source": [
    "# Data Science Tools and Ecosystem"
   ]
  },
  {
   "cell_type": "markdown",
   "id": "05238b34",
   "metadata": {},
   "source": [
    "In this notebook, Data Science Tools and Ecosystem are summarized."
   ]
  },
  {
   "cell_type": "markdown",
   "id": "e227d21b",
   "metadata": {},
   "source": [
    "**Objectives**\n",
    "\n",
    "- List of popular languages\n",
    "- List of commonly used libraries by Data Scientist\n",
    "- Data Science Tools\n",
    "- Arithmetic Expressions\n"
   ]
  },
  {
   "cell_type": "markdown",
   "id": "222f0a46",
   "metadata": {},
   "source": [
    "Some of the popular languages that Data Scientists use are:\n",
    "\n",
    "    1. Python\n",
    "    2. Julia\n",
    "    3. SQL\n",
    "    4. Matlab\n",
    "    5. C++"
   ]
  },
  {
   "cell_type": "markdown",
   "id": "1ed0d9fc",
   "metadata": {},
   "source": [
    "Some of the commonly used libraries used by Data Scientists include:\n",
    "    \n",
    "    1. Keras\n",
    "    2. Pandas\n",
    "    3. Numpy\n",
    "    4. Scikit learn\n",
    "    5. Matplotlib"
   ]
  },
  {
   "cell_type": "markdown",
   "id": "a4971941",
   "metadata": {},
   "source": [
    "|Data Science Tools|\n",
    "|------------------|\n",
    "|Tableau|\n",
    "|MATLAB|\n",
    "|Scikit-learn|"
   ]
  },
  {
   "cell_type": "markdown",
   "id": "50745c0b",
   "metadata": {},
   "source": [
    "### Below are a few examples of evaluating arithmetic expressions in Python."
   ]
  },
  {
   "cell_type": "markdown",
   "id": "5f492b99",
   "metadata": {},
   "source": [
    "*This a simple arithmetic expression to mutiply then add integers.*"
   ]
  },
  {
   "cell_type": "code",
   "execution_count": 2,
   "id": "73de0889",
   "metadata": {},
   "outputs": [
    {
     "data": {
      "text/plain": [
       "17"
      ]
     },
     "execution_count": 2,
     "metadata": {},
     "output_type": "execute_result"
    }
   ],
   "source": [
    "(3*4)+5"
   ]
  },
  {
   "cell_type": "markdown",
   "id": "9e7d7dbc",
   "metadata": {},
   "source": [
    "*This will convert 200 minutes to hours by diving by 60.*"
   ]
  },
  {
   "cell_type": "code",
   "execution_count": 1,
   "id": "0176b43a",
   "metadata": {},
   "outputs": [
    {
     "data": {
      "text/plain": [
       "3.3333333333333335"
      ]
     },
     "execution_count": 1,
     "metadata": {},
     "output_type": "execute_result"
    }
   ],
   "source": [
    "hours = (200/60)\n",
    "hours"
   ]
  },
  {
   "cell_type": "markdown",
   "id": "2d761b7b",
   "metadata": {},
   "source": [
    "## Author\n",
    "Neha Anttal\n"
   ]
  },
  {
   "cell_type": "code",
   "execution_count": null,
   "id": "398d8ea0",
   "metadata": {},
   "outputs": [],
   "source": []
  }
 ],
 "metadata": {
  "kernelspec": {
   "display_name": "Python 3 (ipykernel)",
   "language": "python",
   "name": "python3"
  },
  "language_info": {
   "codemirror_mode": {
    "name": "ipython",
    "version": 3
   },
   "file_extension": ".py",
   "mimetype": "text/x-python",
   "name": "python",
   "nbconvert_exporter": "python",
   "pygments_lexer": "ipython3",
   "version": "3.11.4"
  }
 },
 "nbformat": 4,
 "nbformat_minor": 5
}
